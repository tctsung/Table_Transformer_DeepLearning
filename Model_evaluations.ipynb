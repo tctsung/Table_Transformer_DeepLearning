{
 "cells": [
  {
   "cell_type": "code",
   "execution_count": 32,
   "id": "a7eae455",
   "metadata": {},
   "outputs": [
    {
     "data": {
      "text/plain": [
       "<module 'DL_functions' from '/Users/tsung_macbook/Dropbox/DL/final/code/DL_functions.py'>"
      ]
     },
     "execution_count": 32,
     "metadata": {},
     "output_type": "execute_result"
    }
   ],
   "source": [
    "# general\n",
    "import pandas as pd\n",
    "import numpy as np\n",
    "import data_cleaner as dc # self-written\n",
    "# ML & DL:\n",
    "import sklearn\n",
    "import torch\n",
    "import torch.nn as nn\n",
    "import torch.nn.functional as F\n",
    "# from tab_transformer_pytorch import FTTransformer\n",
    "import rtdl\n",
    "import zero\n",
    "from rtdl import FTTransformer\n",
    "# self-written\n",
    "import DL_functions as dl\n",
    "from importlib import reload\n",
    "reload(dl)"
   ]
  },
  {
   "cell_type": "code",
   "execution_count": 34,
   "id": "2365f963",
   "metadata": {},
   "outputs": [
    {
     "name": "stdout",
     "output_type": "stream",
     "text": [
      "Testing set result: \n",
      "{'ACC': 0.7794, 'BAC': 0.6746, 'macroF1': 0.6075, 'CM': array([[506,  29,  14,  16,  10,  43],\n",
      "       [ 11,  33,   9,   0,   0,   2],\n",
      "       [  3,  16,   6,   0,   0,   0],\n",
      "       [  2,   0,   0,  36,   0,   1],\n",
      "       [  5,   0,   0,   0,  30,   3],\n",
      "       [ 14,   0,   0,   0,   8,  46]])}\n",
      "Training set result: \n",
      "{'ACC': 0.8841, 'BAC': 0.8508, 'macroF1': 0.7847, 'CM': array([[851,  37,  14,  16,  16,  23],\n",
      "       [  4,  70,   8,   0,   0,   1],\n",
      "       [  4,  14,  23,   0,   0,   2],\n",
      "       [  0,   0,   0,  73,   0,   0],\n",
      "       [  3,   0,   0,   0,  49,   1],\n",
      "       [  8,   1,   0,   0,   0,  94]])}\n",
      "Testing set result: \n",
      "{'ACC': 0.7663, 'BAC': 0.6322, 'macroF1': 0.5699, 'CM': array([[502,  43,  12,  19,   4,  38],\n",
      "       [  5,  40,   9,   0,   0,   1],\n",
      "       [  6,  17,   2,   0,   0,   0],\n",
      "       [  5,   0,   0,  34,   0,   0],\n",
      "       [ 10,   0,   0,   0,  26,   2],\n",
      "       [ 14,   1,   0,   4,   7,  42]])}\n",
      "Training set result: \n",
      "{'ACC': 0.862, 'BAC': 0.8313, 'macroF1': 0.76, 'CM': array([[821,  73,  16,  20,   6,  21],\n",
      "       [  2,  81,   0,   0,   0,   0],\n",
      "       [  0,  26,  16,   0,   0,   1],\n",
      "       [  1,   0,   0,  71,   0,   1],\n",
      "       [  5,   0,   0,   0,  47,   1],\n",
      "       [  6,   1,   0,   1,   0,  95]])}\n",
      "Testing set result: \n",
      "{'ACC': 0.7758, 'BAC': 0.5961, 'macroF1': 0.5714, 'CM': array([[533,  15,  17,  14,  11,  28],\n",
      "       [ 17,  23,  12,   2,   0,   1],\n",
      "       [  7,   9,   9,   0,   0,   0],\n",
      "       [  4,   0,   0,  34,   1,   0],\n",
      "       [ 13,   0,   0,   0,  22,   3],\n",
      "       [ 28,   0,   1,   2,   4,  33]])}\n",
      "Training set result: \n",
      "{'ACC': 0.888, 'BAC': 0.8082, 'macroF1': 0.7767, 'CM': array([[891,  19,  15,  16,   5,  11],\n",
      "       [ 10,  46,  27,   0,   0,   0],\n",
      "       [  4,   6,  33,   0,   0,   0],\n",
      "       [  0,   0,   0,  73,   0,   0],\n",
      "       [  8,   0,   0,   0,  45,   0],\n",
      "       [ 23,   0,   0,   2,   1,  77]])}\n"
     ]
    }
   ],
   "source": [
    "# Default model result:\n",
    "model, _, _ = dl.default_setup()\n",
    "default_model = torch.load(\"output/FTT_default_model_3cv.pt\", map_location=\"cpu\")\n",
    "for i in range(1,4):\n",
    "    i = str(i)\n",
    "    model.load_state_dict(default_model[i][\"best_bac_wts\"])\n",
    "    test_result = dl.model_evaluation(model)\n",
    "    print(\"Testing set result: \")\n",
    "    print(test_result)\n",
    "    train_result = dl.model_evaluation(model, set=\"train\")\n",
    "    print(\"Training set result: \")\n",
    "    print(train_result)"
   ]
  },
  {
   "cell_type": "code",
   "execution_count": 33,
   "id": "94c831dc",
   "metadata": {},
   "outputs": [
    {
     "name": "stdout",
     "output_type": "stream",
     "text": [
      "Testing set result: \n",
      "{'ACC': 0.7853, 'BAC': 0.7346, 'macroF1': 0.6418, 'CM': array([[505,  19,  31,   6,  19,  38],\n",
      "       [ 10,  24,  21,   0,   0,   0],\n",
      "       [  0,   7,  18,   0,   0,   0],\n",
      "       [  4,   0,   0,  35,   0,   0],\n",
      "       [  3,   0,   0,   0,  31,   4],\n",
      "       [ 11,   0,   0,   0,   8,  49]])}\n",
      "Training set result: \n",
      "{'ACC': 0.9108, 'BAC': 0.9268, 'macroF1': 0.8407, 'CM': array([[869,  29,  37,   0,   8,  14],\n",
      "       [  1,  55,  27,   0,   0,   0],\n",
      "       [  0,   0,  43,   0,   0,   0],\n",
      "       [  0,   0,   0,  73,   0,   0],\n",
      "       [  0,   0,   0,   0,  53,   0],\n",
      "       [  1,   0,   0,   0,   0, 102]])}\n",
      "Testing set result: \n",
      "{'ACC': 0.8007, 'BAC': 0.6493, 'macroF1': 0.6236, 'CM': array([[532,  13,  22,   7,   9,  35],\n",
      "       [ 20,  26,   9,   0,   0,   0],\n",
      "       [  7,  14,   4,   0,   0,   0],\n",
      "       [  1,   0,   0,  38,   0,   0],\n",
      "       [  6,   0,   0,   0,  28,   4],\n",
      "       [ 19,   0,   0,   0,   2,  47]])}\n",
      "Training set result: \n",
      "{'ACC': 0.9787, 'BAC': 0.9834, 'macroF1': 0.9595, 'CM': array([[935,  10,   7,   1,   2,   2],\n",
      "       [  1,  81,   1,   0,   0,   0],\n",
      "       [  0,   1,  42,   0,   0,   0],\n",
      "       [  0,   0,   0,  73,   0,   0],\n",
      "       [  0,   0,   0,   0,  53,   0],\n",
      "       [  2,   0,   0,   0,   1, 100]])}\n",
      "Testing set result: \n",
      "{'ACC': 0.7972, 'BAC': 0.6808, 'macroF1': 0.6484, 'CM': array([[526,  10,  18,   2,  12,  50],\n",
      "       [ 25,  23,   5,   0,   0,   2],\n",
      "       [  7,   6,  10,   0,   0,   2],\n",
      "       [  3,   0,   0,  36,   0,   0],\n",
      "       [  3,   0,   0,   0,  31,   4],\n",
      "       [ 15,   1,   0,   0,   6,  46]])}\n",
      "Training set result: \n",
      "{'ACC': 0.9634, 'BAC': 0.953, 'macroF1': 0.9314, 'CM': array([[925,   9,   8,   0,   2,  13],\n",
      "       [  4,  76,   3,   0,   0,   0],\n",
      "       [  5,   0,  38,   0,   0,   0],\n",
      "       [  0,   0,   0,  73,   0,   0],\n",
      "       [  1,   0,   0,   0,  52,   0],\n",
      "       [  1,   0,   0,   0,   2, 100]])}\n"
     ]
    }
   ],
   "source": [
    "# Optimized model result:\n",
    "model, _, _ = dl.default_setup()\n",
    "optimized_model = torch.load(\"output/FTT_optimized_3cv_500iter.pt\", map_location=\"cpu\")\n",
    "for i in range(1,4):\n",
    "    i = str(i)\n",
    "    model.load_state_dict(optimized_model[i][\"best_bac_wts\"])\n",
    "    test_result = dl.model_evaluation(model)\n",
    "    print(\"Testing set result: \")\n",
    "    print(test_result)\n",
    "    train_result = dl.model_evaluation(model, set=\"train\")\n",
    "    print(\"Training set result: \")\n",
    "    print(train_result)"
   ]
  },
  {
   "cell_type": "code",
   "execution_count": 25,
   "id": "df6430bf",
   "metadata": {
    "collapsed": true
   },
   "outputs": [
    {
     "name": "stdout",
     "output_type": "stream",
     "text": [
      "{'ACC': 0.7841043890865955, 'BAC': 0.6921937016764034, 'macroF1': 0.6047396156057742, 'CM': array([[497,  45,   6,  16,  11,  43],\n",
      "       [  7,  42,   6,   0,   0,   0],\n",
      "       [  4,  19,   2,   0,   0,   0],\n",
      "       [  1,   0,   0,  38,   0,   0],\n",
      "       [  5,   0,   0,   0,  28,   5],\n",
      "       [  8,   1,   0,   0,   5,  54]])}\n",
      "{'ACC': 0.7924080664294187, 'BAC': 0.5583568915045665, 'macroF1': 0.583885602627011, 'CM': array([[556,  21,  12,   6,   1,  22],\n",
      "       [ 23,  20,  12,   0,   0,   0],\n",
      "       [ 11,   8,   6,   0,   0,   0],\n",
      "       [  7,   0,   0,  32,   0,   0],\n",
      "       [ 15,   0,   0,   0,  20,   3],\n",
      "       [ 31,   1,   0,   0,   2,  34]])}\n",
      "{'ACC': 0.797153024911032, 'BAC': 0.6165519119733253, 'macroF1': 0.6016130147735038, 'CM': array([[539,  15,  14,   8,   9,  33],\n",
      "       [ 20,  24,  11,   0,   0,   0],\n",
      "       [ 10,   9,   5,   0,   0,   1],\n",
      "       [  4,   0,   0,  35,   0,   0],\n",
      "       [ 10,   0,   0,   0,  24,   4],\n",
      "       [ 17,   1,   0,   0,   5,  45]])}\n"
     ]
    }
   ],
   "source": [
    "# normalized evaluation\n",
    "model, _, _ = dl.default_setup()\n",
    "optimized_model = torch.load(\"output/FTT_optimized_3cv_normalized.pt\", map_location=\"cpu\")\n",
    "for i in range(1,4):\n",
    "    i = str(i)\n",
    "    model.load_state_dict(optimized_model[i][\"best_bac_wts\"])\n",
    "    result = dl.test_evaluation(model, normalize=True)\n",
    "    print(result)"
   ]
  }
 ],
 "metadata": {
  "kernelspec": {
   "display_name": "Python 3 (ipykernel)",
   "language": "python",
   "name": "python3"
  },
  "language_info": {
   "codemirror_mode": {
    "name": "ipython",
    "version": 3
   },
   "file_extension": ".py",
   "mimetype": "text/x-python",
   "name": "python",
   "nbconvert_exporter": "python",
   "pygments_lexer": "ipython3",
   "version": "3.8.8"
  }
 },
 "nbformat": 4,
 "nbformat_minor": 5
}

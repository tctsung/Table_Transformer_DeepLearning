{
 "cells": [
  {
   "cell_type": "code",
   "execution_count": 1,
   "id": "a7eae455",
   "metadata": {},
   "outputs": [
    {
     "data": {
      "text/plain": [
       "<module 'DL_functions' from '/Users/tsung_macbook/Dropbox/DL/final/code/DL_functions.py'>"
      ]
     },
     "execution_count": 1,
     "metadata": {},
     "output_type": "execute_result"
    }
   ],
   "source": [
    "# general\n",
    "import pandas as pd\n",
    "import numpy as np\n",
    "import data_cleaner as dc # self-written\n",
    "# ML & DL:\n",
    "import sklearn\n",
    "import torch\n",
    "import torch.nn as nn\n",
    "import torch.nn.functional as F\n",
    "# from tab_transformer_pytorch import FTTransformer\n",
    "import rtdl\n",
    "import zero\n",
    "from rtdl import FTTransformer\n",
    "# self-written\n",
    "import DL_functions as dl\n",
    "from importlib import reload\n",
    "reload(dl)"
   ]
  },
  {
   "cell_type": "code",
   "execution_count": 2,
   "id": "2365f963",
   "metadata": {
    "scrolled": true
   },
   "outputs": [
    {
     "name": "stdout",
     "output_type": "stream",
     "text": [
      "Testing set result: \n",
      "One vs. one weighted AUC: 0.9359356147201424\n",
      "One vs. one macro AUC: 0.9357719463226031\n",
      "One vs. all weighted AUC: 0.9192691601196131\n",
      "One vs. all macro AUC: 0.9500356322202504\n",
      "Acc in each class: [0.8187702265372169, 0.6, 0.24, 0.9230769230769231, 0.7894736842105263, 0.6764705882352942]\n",
      "[[506  29  14  16  10  43]\n",
      " [ 11  33   9   0   0   2]\n",
      " [  3  16   6   0   0   0]\n",
      " [  2   0   0  36   0   1]\n",
      " [  5   0   0   0  30   3]\n",
      " [ 14   0   0   0   8  46]]\n",
      "{'ACC': 0.7794, 'BAC': 0.6746, 'macroF1': 0.6075, 'One vs. one macroAUC': 0.95}\n",
      "Training set result: \n",
      "One vs. one weighted AUC: 0.9794373076730677\n",
      "One vs. one macro AUC: 0.9757780723304639\n",
      "One vs. all weighted AUC: 0.9773408613157676\n",
      "One vs. all macro AUC: 0.9830692387995352\n",
      "Acc in each class: [0.8892371995820272, 0.8433734939759037, 0.5348837209302325, 1.0, 0.9245283018867925, 0.912621359223301]\n",
      "[[851  37  14  16  16  23]\n",
      " [  4  70   8   0   0   1]\n",
      " [  4  14  23   0   0   2]\n",
      " [  0   0   0  73   0   0]\n",
      " [  3   0   0   0  49   1]\n",
      " [  8   1   0   0   0  94]]\n",
      "{'ACC': 0.8841, 'BAC': 0.8508, 'macroF1': 0.7847, 'One vs. one macroAUC': 0.9831}\n"
     ]
    }
   ],
   "source": [
    "# Default model result:\n",
    "model, _, _ = dl.default_setup()\n",
    "default_model = torch.load(\"output/FTT_default_model_3cv.pt\", map_location=\"cpu\")\n",
    "# for i in range(1,4):\n",
    "i = \"1\"\n",
    "model.load_state_dict(default_model[i][\"best_bac_wts\"])\n",
    "print(\"Testing set result: \")\n",
    "test_result = dl.model_evaluation(model)\n",
    "print(\"Training set result: \")\n",
    "train_result = dl.model_evaluation(model, set=\"train\")\n"
   ]
  },
  {
   "cell_type": "code",
   "execution_count": 3,
   "id": "94c831dc",
   "metadata": {
    "scrolled": true
   },
   "outputs": [
    {
     "name": "stdout",
     "output_type": "stream",
     "text": [
      "Testing set result: \n",
      "One vs. one weighted AUC: 0.9481731793642953\n",
      "One vs. one macro AUC: 0.9466882348114456\n",
      "One vs. all weighted AUC: 0.933966300086029\n",
      "One vs. all macro AUC: 0.9579713397375786\n",
      "Acc in each class: [0.8171521035598706, 0.43636363636363634, 0.72, 0.8974358974358975, 0.8157894736842105, 0.7205882352941176]\n",
      "[[505  19  31   6  19  38]\n",
      " [ 10  24  21   0   0   0]\n",
      " [  0   7  18   0   0   0]\n",
      " [  4   0   0  35   0   0]\n",
      " [  3   0   0   0  31   4]\n",
      " [ 11   0   0   0   8  49]]\n",
      "{'ACC': 0.7853, 'BAC': 0.7346, 'macroF1': 0.6418, 'One vs. one macroAUC': 0.958}\n",
      "Training set result: \n",
      "One vs. one weighted AUC: 0.994952296673518\n",
      "One vs. one macro AUC: 0.9967298463496734\n",
      "One vs. all weighted AUC: 0.9934706555854512\n",
      "One vs. all macro AUC: 0.9945281333986569\n",
      "Acc in each class: [0.9080459770114943, 0.6626506024096386, 1.0, 1.0, 1.0, 0.9902912621359223]\n",
      "[[869  29  37   0   8  14]\n",
      " [  1  55  27   0   0   0]\n",
      " [  0   0  43   0   0   0]\n",
      " [  0   0   0  73   0   0]\n",
      " [  0   0   0   0  53   0]\n",
      " [  1   0   0   0   0 102]]\n",
      "{'ACC': 0.9108, 'BAC': 0.9268, 'macroF1': 0.8407, 'One vs. one macroAUC': 0.9945}\n"
     ]
    }
   ],
   "source": [
    "# Optimized model result:\n",
    "model, _, _ = dl.default_setup()\n",
    "optimized_model = torch.load(\"output/FTT_optimized_3cv_500iter.pt\", map_location=\"cpu\")\n",
    "# for i in range(1,4):\n",
    "i = str(i)\n",
    "model.load_state_dict(optimized_model[i][\"best_bac_wts\"])\n",
    "print(\"Testing set result: \")\n",
    "test_result = dl.model_evaluation(model)\n",
    "print(\"Training set result: \")\n",
    "train_result = dl.model_evaluation(model, set=\"train\")"
   ]
  },
  {
   "cell_type": "code",
   "execution_count": 25,
   "id": "df6430bf",
   "metadata": {},
   "outputs": [
    {
     "name": "stdout",
     "output_type": "stream",
     "text": [
      "{'ACC': 0.7841043890865955, 'BAC': 0.6921937016764034, 'macroF1': 0.6047396156057742, 'CM': array([[497,  45,   6,  16,  11,  43],\n",
      "       [  7,  42,   6,   0,   0,   0],\n",
      "       [  4,  19,   2,   0,   0,   0],\n",
      "       [  1,   0,   0,  38,   0,   0],\n",
      "       [  5,   0,   0,   0,  28,   5],\n",
      "       [  8,   1,   0,   0,   5,  54]])}\n",
      "{'ACC': 0.7924080664294187, 'BAC': 0.5583568915045665, 'macroF1': 0.583885602627011, 'CM': array([[556,  21,  12,   6,   1,  22],\n",
      "       [ 23,  20,  12,   0,   0,   0],\n",
      "       [ 11,   8,   6,   0,   0,   0],\n",
      "       [  7,   0,   0,  32,   0,   0],\n",
      "       [ 15,   0,   0,   0,  20,   3],\n",
      "       [ 31,   1,   0,   0,   2,  34]])}\n",
      "{'ACC': 0.797153024911032, 'BAC': 0.6165519119733253, 'macroF1': 0.6016130147735038, 'CM': array([[539,  15,  14,   8,   9,  33],\n",
      "       [ 20,  24,  11,   0,   0,   0],\n",
      "       [ 10,   9,   5,   0,   0,   1],\n",
      "       [  4,   0,   0,  35,   0,   0],\n",
      "       [ 10,   0,   0,   0,  24,   4],\n",
      "       [ 17,   1,   0,   0,   5,  45]])}\n"
     ]
    }
   ],
   "source": [
    "# normalized evaluation\n",
    "model, _, _ = dl.default_setup()\n",
    "optimized_model = torch.load(\"output/FTT_optimized_3cv_normalized.pt\", map_location=\"cpu\")\n",
    "for i in range(1,4):\n",
    "    i = str(i)\n",
    "    model.load_state_dict(optimized_model[i][\"best_bac_wts\"])\n",
    "    result = dl.test_evaluation(model, normalize=True)\n",
    "    print(result)"
   ]
  }
 ],
 "metadata": {
  "kernelspec": {
   "display_name": "Python 3 (ipykernel)",
   "language": "python",
   "name": "python3"
  },
  "language_info": {
   "codemirror_mode": {
    "name": "ipython",
    "version": 3
   },
   "file_extension": ".py",
   "mimetype": "text/x-python",
   "name": "python",
   "nbconvert_exporter": "python",
   "pygments_lexer": "ipython3",
   "version": "3.8.8"
  }
 },
 "nbformat": 4,
 "nbformat_minor": 5
}
